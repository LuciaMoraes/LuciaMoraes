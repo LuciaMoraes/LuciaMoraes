{
  "nbformat": 4,
  "nbformat_minor": 0,
  "metadata": {
    "colab": {
      "provenance": [],
      "authorship_tag": "ABX9TyPOzIags5413bc3I7cmeeD2",
      "include_colab_link": true
    },
    "kernelspec": {
      "name": "python3",
      "display_name": "Python 3"
    },
    "language_info": {
      "name": "python"
    }
  },
  "cells": [
    {
      "cell_type": "markdown",
      "metadata": {
        "id": "view-in-github",
        "colab_type": "text"
      },
      "source": [
        "<a href=\"https://colab.research.google.com/github/LuciaMoraes/LuciaMoraes/blob/main/IMC_L%C3%BAcia_Moraes.ipynb\" target=\"_parent\"><img src=\"https://colab.research.google.com/assets/colab-badge.svg\" alt=\"Open In Colab\"/></a>"
      ]
    },
    {
      "cell_type": "code",
      "execution_count": null,
      "metadata": {
        "id": "CrNc22DPjkzi"
      },
      "outputs": [],
      "source": [
        "# Função para classificar o IMC\n",
        "def classificar_imc():\n",
        "  peso = float(input(\"Digite seu peso em Kg: \"))\n",
        "  altura = float(input(\"Digite sua altura em metros: \"))\n",
        "\n",
        "  imc = peso / (altura * altura)\n",
        "  if imc < 16.9:\n",
        "    print(\"Muito abaixo do peso\")\n",
        "  elif 17 <= imc < 18.4:\n",
        "    print(\"Abaixo do peso\")\n",
        "  elif 18.5 <= imc < 24.9:\n",
        "    print(\"Peso normal\")\n",
        "  elif 25 <= imc < 29.9:\n",
        "    print(\"Acima do peso\")\n",
        "  elif 30 <= imc < 34.9:\n",
        "    print(\"Obesidade grau I\")\n",
        "  elif 35 <= imc < 40:\n",
        "    print(\"Obesidade grau II\")\n",
        "  else:\n",
        "    print(\"Obesidade grau III\")"
      ]
    }
  ]
}